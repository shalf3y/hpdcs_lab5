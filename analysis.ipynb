{
 "cells": [
  {
   "cell_type": "code",
   "execution_count": 1,
   "id": "3a381d7d",
   "metadata": {},
   "outputs": [],
   "source": [
    "from pyspark.sql import SparkSession\n",
    "from pyspark import SparkContext\n",
    "from prettytable import PrettyTable\n",
    "from datetime import datetime, timedelta"
   ]
  },
  {
   "cell_type": "code",
   "execution_count": 14,
   "id": "5e5b1a16",
   "metadata": {},
   "outputs": [
    {
     "name": "stderr",
     "output_type": "stream",
     "text": [
      "\r",
      "[Stage 0:>                                                          (0 + 1) / 1]\r",
      "\r",
      "                                                                                \r"
     ]
    }
   ],
   "source": [
    "sc = SparkContext(appName=\"FakeRidesAnalysis\")\n",
    "spark = SparkSession.builder.getOrCreate()\n",
    "FP = \"fake_rides.csv\"\n",
    "\n",
    "header = sc.textFile(FP).first()\n",
    "rdd = sc.textFile(FP).filter(lambda line: line != header).map(\n",
    "    lambda line: line.split(','))"
   ]
  },
  {
   "cell_type": "code",
   "execution_count": 3,
   "id": "46f7c718",
   "metadata": {},
   "outputs": [
    {
     "name": "stderr",
     "output_type": "stream",
     "text": [
      "[Stage 4:===================================================>  (370 + 12) / 388]\r"
     ]
    },
    {
     "name": "stdout",
     "output_type": "stream",
     "text": [
      "+----------+-------+\n",
      "| Category | Count |\n",
      "+----------+-------+\n",
      "|  Users   | 29891 |\n",
      "| Drivers  |  4925 |\n",
      "+----------+-------+\n"
     ]
    },
    {
     "name": "stderr",
     "output_type": "stream",
     "text": [
      "\r",
      "[Stage 4:====================================================> (378 + 10) / 388]\r",
      "\r",
      "                                                                                \r"
     ]
    }
   ],
   "source": [
    "# Task 0: Check users and drivers count\n",
    "\n",
    "users_count = rdd.map(lambda x: (x[1], 1)).distinct().count()\n",
    "drivers_count = rdd.map(lambda x: (x[0], 1)).distinct().count()\n",
    "\n",
    "counts_table = PrettyTable([\"Category\", \"Count\"])\n",
    "counts_table.add_row([\"Users\", users_count])\n",
    "counts_table.add_row([\"Drivers\", drivers_count])\n",
    "\n",
    "print(counts_table)"
   ]
  },
  {
   "cell_type": "code",
   "execution_count": 4,
   "id": "db826d97",
   "metadata": {},
   "outputs": [
    {
     "name": "stderr",
     "output_type": "stream",
     "text": [
      "[Stage 6:==================================================>   (363 + 12) / 388]\r"
     ]
    },
    {
     "name": "stdout",
     "output_type": "stream",
     "text": [
      "+-----------+---------------+\n",
      "| Driver ID | Average Score |\n",
      "+-----------+---------------+\n",
      "|    2452   |      4.13     |\n",
      "|    1325   |      4.13     |\n",
      "|    575    |      4.13     |\n",
      "|    3578   |      4.13     |\n",
      "|    3323   |      4.13     |\n",
      "|    226    |      4.13     |\n",
      "|    3639   |      4.13     |\n",
      "|    4529   |      4.13     |\n",
      "|    1489   |      4.13     |\n",
      "|    1538   |      4.13     |\n",
      "|    3722   |      4.12     |\n",
      "|    2566   |      4.12     |\n",
      "|    4829   |      4.12     |\n",
      "|    4321   |      4.12     |\n",
      "|    3241   |      4.12     |\n",
      "|    2393   |      4.12     |\n",
      "|    3629   |      4.12     |\n",
      "|    780    |      4.12     |\n",
      "|    3048   |      4.12     |\n",
      "|    2674   |      4.12     |\n",
      "|    2567   |      4.12     |\n",
      "|    2805   |      4.12     |\n",
      "|    4441   |      4.12     |\n",
      "|    3652   |      4.12     |\n",
      "|    4890   |      4.12     |\n",
      "|    1109   |      4.12     |\n",
      "|    2528   |      4.12     |\n",
      "|    1215   |      4.12     |\n",
      "|    2135   |      4.12     |\n",
      "|    2999   |      4.12     |\n",
      "|    1767   |      4.12     |\n",
      "|    1304   |      4.12     |\n",
      "|    3719   |      4.12     |\n",
      "|    3621   |      4.12     |\n",
      "|    3856   |      4.12     |\n",
      "|    4427   |      4.12     |\n",
      "|    4874   |      4.12     |\n",
      "|    2489   |      4.12     |\n",
      "|    2765   |      4.12     |\n",
      "|    4831   |      4.12     |\n",
      "|    218    |      4.12     |\n",
      "|    4771   |      4.12     |\n",
      "|    3155   |      4.12     |\n",
      "|    4464   |      4.12     |\n",
      "|    139    |      4.12     |\n",
      "|    1905   |      4.12     |\n",
      "|    1911   |      4.12     |\n",
      "|    3091   |      4.12     |\n",
      "|    3409   |      4.12     |\n",
      "|    3531   |      4.12     |\n",
      "|    4857   |      4.12     |\n",
      "|    4866   |      4.12     |\n",
      "|    2089   |      4.12     |\n",
      "|    2890   |      4.12     |\n",
      "|    2188   |      4.12     |\n",
      "|    2975   |      4.12     |\n",
      "|    3117   |      4.12     |\n",
      "|    739    |      4.12     |\n",
      "|    2050   |      4.12     |\n",
      "|    3046   |      4.12     |\n",
      "|    1965   |      4.12     |\n",
      "|    2981   |      4.12     |\n",
      "|    4720   |      4.12     |\n",
      "|    2845   |      4.12     |\n",
      "|    1656   |      4.12     |\n",
      "|    4329   |      4.12     |\n",
      "|     59    |      4.12     |\n",
      "|    3225   |      4.12     |\n",
      "|    2666   |      4.12     |\n",
      "|    880    |      4.12     |\n",
      "|    4886   |      4.12     |\n",
      "|    1581   |      4.12     |\n",
      "|    2754   |      4.12     |\n",
      "|     85    |      4.12     |\n",
      "|    4684   |      4.12     |\n",
      "|    1282   |      4.12     |\n",
      "|    2065   |      4.12     |\n",
      "|    2679   |      4.12     |\n",
      "|    985    |      4.12     |\n",
      "|     74    |      4.12     |\n",
      "|    4681   |      4.12     |\n",
      "|    4160   |      4.12     |\n",
      "|    256    |      4.12     |\n",
      "|    1897   |      4.12     |\n",
      "|    3586   |      4.12     |\n",
      "|    4794   |      4.12     |\n",
      "|    574    |      4.12     |\n",
      "|    568    |      4.12     |\n",
      "|    4432   |      4.12     |\n",
      "|    3503   |      4.12     |\n",
      "|    3064   |      4.12     |\n",
      "|    927    |      4.12     |\n",
      "|    2257   |      4.12     |\n",
      "|    2032   |      4.12     |\n",
      "|    4721   |      4.12     |\n",
      "|    3054   |      4.12     |\n",
      "|    1603   |      4.12     |\n",
      "|    3831   |      4.12     |\n",
      "|    3601   |      4.12     |\n",
      "|    3209   |      4.12     |\n",
      "+-----------+---------------+\n"
     ]
    },
    {
     "name": "stderr",
     "output_type": "stream",
     "text": [
      "\r",
      "[Stage 6:====================================================> (375 + 12) / 388]\r",
      "\r",
      "                                                                                \r"
     ]
    }
   ],
   "source": [
    "# Task 1: View 100 drivers with the highest average score\n",
    "\n",
    "driver_scores = rdd.map(lambda x: (x[0], (float(x[10]), 1)))\n",
    "avg_scores = driver_scores.reduceByKey(lambda x, y: (x[0] + y[0], x[1] + y[1])) \\\n",
    "                          .map(lambda x: (x[0], x[1][0] / x[1][1]))\n",
    "top_100_drivers = avg_scores.takeOrdered(100, key=lambda x: -x[1])\n",
    "\n",
    "top_drivers_table = PrettyTable([\"Driver ID\", \"Average Score\"])\n",
    "for driver in top_100_drivers:\n",
    "    top_drivers_table.add_row([driver[0], round(driver[1], 2)])\n",
    "\n",
    "print(top_drivers_table)"
   ]
  },
  {
   "cell_type": "code",
   "execution_count": 5,
   "id": "a6aa39f0",
   "metadata": {},
   "outputs": [
    {
     "name": "stderr",
     "output_type": "stream",
     "text": [
      "[Stage 8:======================================================>(387 + 1) / 388]\r"
     ]
    },
    {
     "name": "stdout",
     "output_type": "stream",
     "text": [
      "+------------------------------+-------+\n",
      "| Drivers with avg score < 3.5 | Score |\n",
      "+------------------------------+-------+\n",
      "+------------------------------+-------+\n"
     ]
    },
    {
     "name": "stderr",
     "output_type": "stream",
     "text": [
      "\r",
      "                                                                                \r"
     ]
    }
   ],
   "source": [
    "# Task 2: View drivers with average score below 3.5\n",
    "\n",
    "low_score_drivers = avg_scores.filter(lambda x: x[1] < 3.5)\n",
    "\n",
    "low_score_table = PrettyTable([\"Drivers with avg score < 3.5\", \"Score\"])\n",
    "for driver in low_score_drivers.collect():\n",
    "    low_score_table.add_row([driver[0], round(driver[1], 2)])\n",
    "\n",
    "print(low_score_table)"
   ]
  },
  {
   "cell_type": "code",
   "execution_count": 6,
   "id": "b53e5f0c",
   "metadata": {},
   "outputs": [
    {
     "name": "stderr",
     "output_type": "stream",
     "text": [
      "[Stage 17:=================================================>   (365 + 12) / 388]\r"
     ]
    },
    {
     "name": "stdout",
     "output_type": "stream",
     "text": [
      "+------+---------------+\n",
      "| Hour | Average Rides |\n",
      "+------+---------------+\n",
      "|  17  |    10950.36   |\n",
      "|  8   |    9123.42    |\n",
      "|  18  |    9122.27    |\n",
      "|  19  |    8209.13    |\n",
      "|  16  |    7298.52    |\n",
      "|  9   |    6388.72    |\n",
      "|  20  |    5474.64    |\n",
      "|  10  |    4564.44    |\n",
      "|  15  |    4560.99    |\n",
      "|  21  |    3651.74    |\n",
      "|  0   |     2738.2    |\n",
      "|  14  |     2737.1    |\n",
      "|  13  |    2736.93    |\n",
      "|  7   |    2736.41    |\n",
      "|  11  |    1825.17    |\n",
      "|  1   |     1825.1    |\n",
      "|  12  |    1824.93    |\n",
      "|  2   |     912.87    |\n",
      "|  22  |     912.46    |\n",
      "|  6   |     912.22    |\n",
      "|  3   |     911.89    |\n",
      "|  23  |     911.5     |\n",
      "|  4   |     455.97    |\n",
      "|  5   |     455.92    |\n",
      "+------+---------------+\n"
     ]
    },
    {
     "name": "stderr",
     "output_type": "stream",
     "text": [
      "\r",
      "[Stage 17:===================================================> (376 + 12) / 388]\r",
      "\r",
      "                                                                                \r"
     ]
    }
   ],
   "source": [
    "# Task 3: Check which timeframe has most daily rides\n",
    "\n",
    "start_date_str = rdd.map(lambda x: x[7]).min()\n",
    "end_date_str = rdd.map(lambda x: x[8]).max()\n",
    "\n",
    "start_date = datetime.strptime(start_date_str, '%Y-%m-%d %H:%M:%S').date()\n",
    "end_date = datetime.strptime(end_date_str, '%Y-%m-%d %H:%M:%S').date()\n",
    "\n",
    "total_days = (end_date - start_date).days + 1\n",
    "hourly_rides = rdd.map(lambda x: (\n",
    "    datetime.strptime(x[7], '%Y-%m-%d %H:%M:%S').hour, 1))\n",
    "hourly_rides_count = hourly_rides.reduceByKey(lambda x, y: x + y)\n",
    "hourly_average_rides = hourly_rides_count.map(lambda x: (\n",
    "    x[0], round(x[1] / total_days, 2))).sortBy(lambda x: x[1], ascending=False)\n",
    "\n",
    "timeframes_table = PrettyTable([\"Hour\", \"Average Rides\"])\n",
    "for row in hourly_average_rides.collect():\n",
    "    timeframes_table.add_row(row)\n",
    "\n",
    "print(timeframes_table)"
   ]
  },
  {
   "cell_type": "code",
   "execution_count": 7,
   "id": "09162b4d",
   "metadata": {},
   "outputs": [
    {
     "name": "stderr",
     "output_type": "stream",
     "text": [
      "                                                                                \r"
     ]
    },
    {
     "name": "stdout",
     "output_type": "stream",
     "text": [
      "+---------+------------------+\n",
      "| User ID | Average Feedback |\n",
      "+---------+------------------+\n",
      "|  13724  |       3.88       |\n",
      "|  21081  |       3.87       |\n",
      "|  13070  |       3.87       |\n",
      "|  29762  |       3.87       |\n",
      "|   3596  |       3.87       |\n",
      "|  17181  |       3.87       |\n",
      "|   2634  |       3.87       |\n",
      "|  27235  |       3.87       |\n",
      "|  14684  |       3.87       |\n",
      "|  13972  |       3.87       |\n",
      "|  27564  |       3.87       |\n",
      "|  11223  |       3.87       |\n",
      "|   7583  |       3.87       |\n",
      "|  17428  |       3.87       |\n",
      "|   7665  |       3.86       |\n",
      "|   1799  |       3.86       |\n",
      "|  11813  |       3.86       |\n",
      "|  29643  |       3.86       |\n",
      "|  10696  |       3.86       |\n",
      "|   2508  |       3.86       |\n",
      "|  10557  |       3.86       |\n",
      "|  26499  |       3.86       |\n",
      "|  14594  |       3.86       |\n",
      "|  25436  |       3.86       |\n",
      "|  19481  |       3.86       |\n",
      "|  12510  |       3.86       |\n",
      "|  21616  |       3.86       |\n",
      "|  18435  |       3.86       |\n",
      "|  12977  |       3.86       |\n",
      "|  11940  |       3.86       |\n",
      "|  10556  |       3.86       |\n",
      "|  13229  |       3.86       |\n",
      "|  21448  |       3.86       |\n",
      "|  17766  |       3.86       |\n",
      "|   7383  |       3.86       |\n",
      "|  25264  |       3.86       |\n",
      "|  22582  |       3.86       |\n",
      "|   3443  |       3.86       |\n",
      "|  21806  |       3.86       |\n",
      "|  16998  |       3.86       |\n",
      "|  23797  |       3.86       |\n",
      "|  14769  |       3.86       |\n",
      "|   8223  |       3.86       |\n",
      "|  10147  |       3.86       |\n",
      "|  23448  |       3.86       |\n",
      "|  28137  |       3.86       |\n",
      "|   9201  |       3.86       |\n",
      "|  12202  |       3.86       |\n",
      "|  26930  |       3.86       |\n",
      "|  20038  |       3.86       |\n",
      "|  29168  |       3.86       |\n",
      "|  29005  |       3.86       |\n",
      "|   7094  |       3.86       |\n",
      "|  10650  |       3.86       |\n",
      "|  27951  |       3.86       |\n",
      "|  23822  |       3.86       |\n",
      "|  12208  |       3.86       |\n",
      "|  21703  |       3.86       |\n",
      "|  11529  |       3.86       |\n",
      "|  16416  |       3.86       |\n",
      "|  15858  |       3.86       |\n",
      "|  26549  |       3.86       |\n",
      "|  25127  |       3.86       |\n",
      "|   7469  |       3.86       |\n",
      "|  17745  |       3.86       |\n",
      "|   4732  |       3.86       |\n",
      "|  10089  |       3.86       |\n",
      "|  25912  |       3.86       |\n",
      "|  11188  |       3.86       |\n",
      "|  22354  |       3.86       |\n",
      "|  24472  |       3.86       |\n",
      "|  14666  |       3.86       |\n",
      "|  28061  |       3.86       |\n",
      "|   1530  |       3.86       |\n",
      "|   4846  |       3.86       |\n",
      "|   2374  |       3.86       |\n",
      "|   9427  |       3.86       |\n",
      "|  25122  |       3.86       |\n",
      "|   5252  |       3.86       |\n",
      "|   3254  |       3.86       |\n",
      "|  15350  |       3.86       |\n",
      "|   445   |       3.86       |\n",
      "|  17495  |       3.86       |\n",
      "|  15074  |       3.86       |\n",
      "|  13044  |       3.86       |\n",
      "|   8845  |       3.86       |\n",
      "|   8869  |       3.86       |\n",
      "|  20362  |       3.86       |\n",
      "|  20850  |       3.86       |\n",
      "|  26736  |       3.86       |\n",
      "|   5931  |       3.86       |\n",
      "|   6303  |       3.86       |\n",
      "|   3398  |       3.86       |\n",
      "|   2972  |       3.86       |\n",
      "|   2366  |       3.86       |\n",
      "|  21054  |       3.86       |\n",
      "|  13920  |       3.86       |\n",
      "|  29412  |       3.86       |\n",
      "|  11370  |       3.86       |\n",
      "|  12983  |       3.86       |\n",
      "+---------+------------------+\n"
     ]
    }
   ],
   "source": [
    "# Task 4: View 100 users with the highest average feedback\n",
    "\n",
    "user_scores = rdd.map(lambda x: (x[1], (float(x[13]), 1)))\n",
    "avg_scores = user_scores.reduceByKey(lambda x, y: (x[0] + y[0], x[1] + y[1])) \\\n",
    "    .map(lambda x: (x[0], x[1][0] / x[1][1]))\n",
    "top_100_users = avg_scores.takeOrdered(100, key=lambda x: -x[1])\n",
    "\n",
    "top_users_table = PrettyTable([\"User ID\", \"Average Feedback\"])\n",
    "for user in top_100_users:\n",
    "    top_users_table.add_row([user[0], round(user[1], 2)])\n",
    "\n",
    "print(top_users_table)"
   ]
  },
  {
   "cell_type": "code",
   "execution_count": 8,
   "id": "537c9448",
   "metadata": {},
   "outputs": [
    {
     "name": "stderr",
     "output_type": "stream",
     "text": [
      "[Stage 21:=================================================>   (365 + 12) / 388]\r"
     ]
    },
    {
     "name": "stdout",
     "output_type": "stream",
     "text": [
      "+-----------+-----------------+\n",
      "| Driver ID | Total Trip Cost |\n",
      "+-----------+-----------------+\n",
      "|    3409   |    301245.94    |\n",
      "|    4212   |    300800.71    |\n",
      "|    4033   |    300472.79    |\n",
      "|    4070   |    300465.92    |\n",
      "|    848    |    300437.23    |\n",
      "|    2247   |    300304.62    |\n",
      "|    801    |    300207.48    |\n",
      "|    2097   |    300200.04    |\n",
      "|    465    |    300146.04    |\n",
      "|    2157   |    300019.37    |\n",
      "|    2642   |    300011.49    |\n",
      "|    291    |    299934.03    |\n",
      "|    1393   |    299912.97    |\n",
      "|    688    |    299495.23    |\n",
      "|    3529   |    299401.09    |\n",
      "|    1872   |     299392.3    |\n",
      "|    808    |    299358.46    |\n",
      "|    1722   |    299347.24    |\n",
      "|    4420   |    299272.27    |\n",
      "|    1058   |    299268.11    |\n",
      "|    766    |    299249.68    |\n",
      "|    2478   |    299194.85    |\n",
      "|    1388   |    299173.63    |\n",
      "|    1927   |    299121.44    |\n",
      "|     9     |    299064.08    |\n",
      "|    4726   |    298975.02    |\n",
      "|    3625   |    298943.22    |\n",
      "|    2764   |     298935.8    |\n",
      "|    1766   |    298923.42    |\n",
      "|    3033   |     298846.2    |\n",
      "|    919    |    298808.06    |\n",
      "|    2233   |    298723.44    |\n",
      "|    2738   |    298712.58    |\n",
      "|    1096   |    298699.45    |\n",
      "|    1157   |    298684.07    |\n",
      "|    4028   |    298652.92    |\n",
      "|    4208   |    298601.14    |\n",
      "|    1504   |    298587.64    |\n",
      "|    3870   |    298567.93    |\n",
      "|    1443   |    298548.72    |\n",
      "|    853    |    298516.07    |\n",
      "|    1182   |    298505.58    |\n",
      "|    4323   |    298503.69    |\n",
      "|    1239   |    298496.22    |\n",
      "|    3120   |    298491.64    |\n",
      "|    1245   |     298485.1    |\n",
      "|    2117   |    298466.57    |\n",
      "|    4732   |    298435.14    |\n",
      "|    4027   |    298413.43    |\n",
      "|    1334   |    298404.03    |\n",
      "|    3169   |    298394.41    |\n",
      "|    2826   |    298386.64    |\n",
      "|    3283   |    298380.79    |\n",
      "|    2367   |    298361.88    |\n",
      "|    2459   |    298317.56    |\n",
      "|    2429   |    298285.03    |\n",
      "|    3665   |    298269.87    |\n",
      "|    805    |    298267.69    |\n",
      "|    4428   |    298246.04    |\n",
      "|    3869   |    298214.56    |\n",
      "|    1753   |    298208.63    |\n",
      "|    1389   |    298184.41    |\n",
      "|    3420   |    298170.28    |\n",
      "|    1098   |    298144.56    |\n",
      "|    820    |    298133.11    |\n",
      "|    939    |    298119.76    |\n",
      "|    972    |    298096.16    |\n",
      "|    3043   |    298046.69    |\n",
      "|    2724   |    298036.29    |\n",
      "|    2422   |    298017.54    |\n",
      "|    3817   |    298000.54    |\n",
      "|    638    |    297995.37    |\n",
      "|     55    |    297992.88    |\n",
      "|    3122   |    297989.83    |\n",
      "|    164    |    297947.41    |\n",
      "|    2260   |    297943.04    |\n",
      "|    111    |    297921.25    |\n",
      "|    4215   |    297916.09    |\n",
      "|    116    |    297896.95    |\n",
      "|    3574   |    297890.07    |\n",
      "|    3793   |    297876.56    |\n",
      "|    4600   |    297876.02    |\n",
      "|    3179   |    297869.61    |\n",
      "|    1230   |    297869.07    |\n",
      "|    268    |    297835.86    |\n",
      "|    2056   |    297826.65    |\n",
      "|    4266   |    297824.45    |\n",
      "|    4299   |    297795.11    |\n",
      "|    817    |    297781.72    |\n",
      "|    1620   |    297780.25    |\n",
      "|    1081   |     297769.3    |\n",
      "|    2325   |     297755.4    |\n",
      "|    1588   |    297752.04    |\n",
      "|    2270   |     297730.4    |\n",
      "|    1914   |    297701.62    |\n",
      "|    3788   |    297700.52    |\n",
      "|    269    |    297690.44    |\n",
      "|    1196   |    297676.05    |\n",
      "|    4343   |    297675.44    |\n",
      "|     82    |    297674.88    |\n",
      "+-----------+-----------------+\n"
     ]
    },
    {
     "name": "stderr",
     "output_type": "stream",
     "text": [
      "\r",
      "[Stage 21:===================================================> (377 + 11) / 388]\r",
      "\r",
      "                                                                                \r"
     ]
    }
   ],
   "source": [
    "# Task 5: View 100 drivers with the most earnings\n",
    "\n",
    "driver_trip_cost = rdd.map(lambda x: (x[0], float(x[9])))\n",
    "total_trip_cost_by_driver = driver_trip_cost.reduceByKey(lambda x, y: x + y)\n",
    "top_100_drivers_by_trip_cost = total_trip_cost_by_driver.takeOrdered(\n",
    "    100, key=lambda x: -x[1])\n",
    "\n",
    "top_earners_table = PrettyTable([\"Driver ID\", \"Total Trip Cost\"])\n",
    "for driver in top_100_drivers_by_trip_cost:\n",
    "    top_earners_table.add_row([driver[0], round(driver[1], 2)])\n",
    "\n",
    "print(top_earners_table)"
   ]
  },
  {
   "cell_type": "code",
   "execution_count": 9,
   "id": "b403c26d",
   "metadata": {},
   "outputs": [
    {
     "name": "stderr",
     "output_type": "stream",
     "text": [
      "                                                                                \r"
     ]
    },
    {
     "name": "stdout",
     "output_type": "stream",
     "text": [
      "+-----------+-------------+\n",
      "| Driver ID | Night Rides |\n",
      "+-----------+-------------+\n",
      "|    3411   |     1777    |\n",
      "|    2273   |     1767    |\n",
      "|    1688   |     1767    |\n",
      "|    1172   |     1758    |\n",
      "|    4578   |     1757    |\n",
      "|    1252   |     1753    |\n",
      "|    1927   |     1750    |\n",
      "|    4902   |     1746    |\n",
      "|    3766   |     1742    |\n",
      "|    4212   |     1742    |\n",
      "|    1039   |     1741    |\n",
      "|    1367   |     1741    |\n",
      "|    4609   |     1740    |\n",
      "|    573    |     1740    |\n",
      "|    2153   |     1739    |\n",
      "|    715    |     1739    |\n",
      "|    143    |     1738    |\n",
      "|    797    |     1737    |\n",
      "|    3947   |     1737    |\n",
      "|    345    |     1737    |\n",
      "|    1049   |     1735    |\n",
      "|    4026   |     1735    |\n",
      "|    4348   |     1734    |\n",
      "|    1485   |     1734    |\n",
      "|    269    |     1734    |\n",
      "|    4751   |     1733    |\n",
      "|    3140   |     1732    |\n",
      "|    1353   |     1729    |\n",
      "|    3216   |     1729    |\n",
      "|    3218   |     1728    |\n",
      "|    2393   |     1726    |\n",
      "|    2097   |     1726    |\n",
      "|    4161   |     1726    |\n",
      "|    4772   |     1726    |\n",
      "|    2029   |     1726    |\n",
      "|    4544   |     1726    |\n",
      "|    2108   |     1726    |\n",
      "|    638    |     1725    |\n",
      "|    2176   |     1724    |\n",
      "|    2020   |     1724    |\n",
      "|    1229   |     1724    |\n",
      "|    3898   |     1724    |\n",
      "|    2157   |     1723    |\n",
      "|    921    |     1723    |\n",
      "|    558    |     1722    |\n",
      "|    4759   |     1722    |\n",
      "|    4793   |     1721    |\n",
      "|    4830   |     1721    |\n",
      "|    1096   |     1720    |\n",
      "|    4287   |     1719    |\n",
      "+-----------+-------------+\n"
     ]
    }
   ],
   "source": [
    "# Task 6: View 50 drivers with the most number of night rides\n",
    "\n",
    "def is_night_ride(start_time_str):\n",
    "    start_time = datetime.strptime(start_time_str, '%Y-%m-%d %H:%M:%S')\n",
    "    return 0 <= start_time.hour <= 5\n",
    "\n",
    "\n",
    "night_rides = rdd.filter(lambda x: is_night_ride(x[7]))\n",
    "night_rides_count = night_rides.map(\n",
    "    lambda x: (x[0], 1)).reduceByKey(lambda a, b: a + b)\n",
    "top_night_drivers = night_rides_count.sortBy(\n",
    "    lambda x: x[1], ascending=False).take(50)\n",
    "\n",
    "night_rides_table = PrettyTable([\"Driver ID\", \"Night Rides\"])\n",
    "for row in top_night_drivers:\n",
    "    night_rides_table.add_row(row)\n",
    "\n",
    "print(night_rides_table)"
   ]
  },
  {
   "cell_type": "code",
   "execution_count": 10,
   "id": "cb67b62d",
   "metadata": {},
   "outputs": [
    {
     "name": "stderr",
     "output_type": "stream",
     "text": [
      "[Stage 33:=================================================>   (362 + 12) / 388]\r"
     ]
    },
    {
     "name": "stdout",
     "output_type": "stream",
     "text": [
      "+--------------------+-----------+\n",
      "| Most Seen Feedback | Frequency |\n",
      "+--------------------+-----------+\n",
      "|        fast        |  30002730 |\n",
      "+--------------------+-----------+\n"
     ]
    },
    {
     "name": "stderr",
     "output_type": "stream",
     "text": [
      "\r",
      "[Stage 33:===================================================> (375 + 12) / 388]\r",
      "\r",
      "                                                                                \r"
     ]
    }
   ],
   "source": [
    "# Task 7: View most popular positive feedback for drivers\n",
    "\n",
    "positive_feedback_notes = rdd.filter(\n",
    "    lambda x: int(x[10]) in [4, 5]).map(lambda x: (x[11], 1))\n",
    "frequency_of_notes = positive_feedback_notes.reduceByKey(lambda x, y: x + y)\n",
    "most_frequent_notes = frequency_of_notes.takeOrdered(1, key=lambda x: -x[1])\n",
    "\n",
    "most_positive_table = PrettyTable([\"Most Seen Feedback\", \"Frequency\"])\n",
    "for note in most_frequent_notes:\n",
    "    most_positive_table.add_row([note[0], note[1]])\n",
    "\n",
    "print(most_positive_table)"
   ]
  },
  {
   "cell_type": "code",
   "execution_count": 11,
   "id": "a959fb7e",
   "metadata": {},
   "outputs": [
    {
     "name": "stderr",
     "output_type": "stream",
     "text": [
      "[Stage 35:==================================================>  (368 + 12) / 388]\r"
     ]
    },
    {
     "name": "stdout",
     "output_type": "stream",
     "text": [
      "+------------+-----------+\n",
      "| User Notes | Frequency |\n",
      "+------------+-----------+\n",
      "|    rude    |  4001889  |\n",
      "+------------+-----------+\n"
     ]
    },
    {
     "name": "stderr",
     "output_type": "stream",
     "text": [
      "\r",
      "[Stage 35:=====================================================>(384 + 4) / 388]\r",
      "\r",
      "                                                                                \r"
     ]
    }
   ],
   "source": [
    "# Task 8: View most popular negative feedback for user\n",
    "\n",
    "low_score_user_notes = rdd.filter(lambda x: x[14] and int(x[13]) in [\n",
    "                                  1, 2]).map(lambda x: (x[14], 1))\n",
    "frequency_of_user_notes = low_score_user_notes.reduceByKey(lambda x, y: x + y)\n",
    "sorted_user_notes = frequency_of_user_notes.takeOrdered(1, key=lambda x: -x[1])\n",
    "\n",
    "worst_clients_table = PrettyTable([\"User Notes\", \"Frequency\"])\n",
    "for note in sorted_user_notes:\n",
    "    worst_clients_table.add_row([note[0], note[1]])\n",
    "\n",
    "print(worst_clients_table)"
   ]
  },
  {
   "cell_type": "code",
   "execution_count": 12,
   "id": "c0c8f203",
   "metadata": {},
   "outputs": [
    {
     "name": "stderr",
     "output_type": "stream",
     "text": [
      "[Stage 36:=====================================================>(384 + 4) / 388]\r"
     ]
    },
    {
     "name": "stdout",
     "output_type": "stream",
     "text": [
      "+------------------------------------------------------------------------------------------+--------+\n",
      "|                                     Driver Feedback                                      | Length |\n",
      "+------------------------------------------------------------------------------------------+--------+\n",
      "| Interesting style administration international organization difference local especially. |   88   |\n",
      "|  Relationship senior imagine participant picture understand responsibility performance.  |   86   |\n",
      "|   Teach administration environment Congress particularly certain environmental dinner.   |   84   |\n",
      "|   Yourself example institution important organization television hair responsibility.    |   83   |\n",
      "|   Contain lead although professor Republican responsibility environmental throughout.    |   83   |\n",
      "|   Republican follow standard responsibility together important international tonight.    |   83   |\n",
      "|    Government nearly particularly organization development according set institution.    |   82   |\n",
      "|    Participant candidate production beat environmental environmental believe quickly.    |   82   |\n",
      "|    Report reality attorney herself environmental successful responsibility beautiful.    |   82   |\n",
      "|    Participant discussion different center church population standard responsibility.    |   82   |\n",
      "+------------------------------------------------------------------------------------------+--------+\n"
     ]
    },
    {
     "name": "stderr",
     "output_type": "stream",
     "text": [
      "\r",
      "[Stage 36:=====================================================>(385 + 3) / 388]\r",
      "\r",
      "                                                                                \r"
     ]
    }
   ],
   "source": [
    "# Task 9: View longest driver feedbacks\n",
    "\n",
    "feedback_lengths = rdd.filter(lambda x: x[12]).map(\n",
    "    lambda x: (x[12], len(x[12])))\n",
    "top_10_feedback_lengths = feedback_lengths.takeOrdered(10, key=lambda x: -x[1])\n",
    "\n",
    "longest_feedbacks_table = PrettyTable([\"Driver Feedback\", \"Length\"])\n",
    "for feedback in top_10_feedback_lengths:\n",
    "    longest_feedbacks_table.add_row([feedback[0], feedback[1]])\n",
    "\n",
    "print(longest_feedbacks_table)"
   ]
  },
  {
   "cell_type": "code",
   "execution_count": 15,
   "id": "3c1a526f",
   "metadata": {},
   "outputs": [],
   "source": [
    "sc.stop()"
   ]
  },
  {
   "cell_type": "code",
   "execution_count": null,
   "id": "433025cf",
   "metadata": {},
   "outputs": [],
   "source": []
  }
 ],
 "metadata": {
  "kernelspec": {
   "display_name": "Python 3 (ipykernel)",
   "language": "python",
   "name": "python3"
  },
  "language_info": {
   "codemirror_mode": {
    "name": "ipython",
    "version": 3
   },
   "file_extension": ".py",
   "mimetype": "text/x-python",
   "name": "python",
   "nbconvert_exporter": "python",
   "pygments_lexer": "ipython3",
   "version": "3.10.4"
  }
 },
 "nbformat": 4,
 "nbformat_minor": 5
}
